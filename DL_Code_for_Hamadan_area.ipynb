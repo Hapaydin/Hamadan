{
  "nbformat": 4,
  "nbformat_minor": 0,
  "metadata": {
    "colab": {
      "provenance": []
    },
    "kernelspec": {
      "display_name": "Python 3",
      "language": "python",
      "name": "python3"
    },
    "language_info": {
      "codemirror_mode": {
        "name": "ipython",
        "version": 3
      },
      "file_extension": ".py",
      "mimetype": "text/x-python",
      "name": "python",
      "nbconvert_exporter": "python",
      "pygments_lexer": "ipython3",
      "version": "3.6.5"
    }
  },
  "cells": [
    {
      "cell_type": "code",
      "metadata": {
        "colab": {
          "base_uri": "https://localhost:8080/"
        },
        "id": "cj5erWsexM2h",
        "outputId": "95dbb9a7-aae2-4dba-d020-2d4053e8690a"
      },
      "source": [
        "# Evaluation of feature selection methods in estimation of precipitation based on deep learning artificial neural networks\n",
        "# by\n",
        "# Mohammad Taghi Sattari, Anca Avram, Halit Apaydin, Oliviu Matei\n",
        "#\n",
        "!pip install HydroErr\n",
        "import HydroErr as HEEM\n",
        "import numpy \n",
        "import pandas as pd\n",
        "from pandas import read_csv\n",
        "import math\n",
        "import keras\n",
        "from keras.models import Sequential\n",
        "from keras.layers import Flatten\n",
        "from keras.layers.convolutional import Conv1D\n",
        "from keras.layers.convolutional import MaxPooling1D\n",
        "from keras.layers import Dense, Activation\n",
        "from sklearn.metrics import mean_squared_error\n",
        "from keras.layers import BatchNormalization, Dropout\n",
        "from google.colab import drive \n",
        "drive.mount('/content/gdrive')"
      ],
      "execution_count": null,
      "outputs": [
        {
          "output_type": "stream",
          "text": [
            "Requirement already satisfied: HydroErr in /usr/local/lib/python3.7/dist-packages (1.24)\n",
            "Requirement already satisfied: numpy in /usr/local/lib/python3.7/dist-packages (from HydroErr) (1.19.5)\n",
            "Requirement already satisfied: scipy in /usr/local/lib/python3.7/dist-packages (from HydroErr) (1.4.1)\n",
            "Drive already mounted at /content/gdrive; to attempt to forcibly remount, call drive.mount(\"/content/gdrive\", force_remount=True).\n"
          ],
          "name": "stdout"
        }
      ]
    },
    {
      "cell_type": "code",
      "metadata": {
        "id": "i0eJldqrxM29"
      },
      "source": [
        "AI_Method = \"/content/gdrive/My Drive/Colab Notebooks/Hamadan/H-Sarabi-Allb\"\n",
        "Var_LRs=[1e-2,1e-3]#,1e-3]#,1e-4,1e-5,1e-6,1e-7,1e-8,1e-9]\n",
        "Var_Decays=[1e-2,1e-3]#,1e-3]\n",
        "Var_epochs=[5,10,50,100,500,1000]#,100,300,500,1000,1500,2000]\n",
        " \n",
        "Streamflow=pd.read_csv('/content/gdrive/My Drive/Colab Notebooks/Hamadan/Hamadan.csv', delimiter=';')"
      ],
      "execution_count": null,
      "outputs": []
    },
    {
      "cell_type": "code",
      "metadata": {
        "colab": {
          "base_uri": "https://localhost:8080/"
        },
        "id": "PKeLrvjKxM3N",
        "outputId": "e98debc0-b7fa-4fe1-c569-6688bca84209"
      },
      "source": [
        "import numpy as np\n",
        "x= Streamflow.drop('Sarabi',axis=1)\n",
        "Y= Streamflow['Sarabi']\n",
        "x= x.drop('Month',axis=1)\n",
        "\n",
        "'''\n",
        "x= x.drop('Khosroabad',axis=1)\n",
        "x= x.drop('Namileh',axis=1)\n",
        "x= x.drop('Pihan',axis=1)\n",
        "x= x.drop('Kheyirabad',axis=1)\n",
        "\n",
        "x= x.drop('Sarabi',axis=1)\n",
        "x= x.drop('Vasaj',axis=1)\n",
        "x= x.drop('Babapirali',axis=1) \n",
        "x= x.drop('Varayineh',axis=1) \n",
        "'''\n",
        "\n",
        "x.head()\n",
        "x.info()"
      ],
      "execution_count": null,
      "outputs": [
        {
          "output_type": "stream",
          "text": [
            "<class 'pandas.core.frame.DataFrame'>\n",
            "RangeIndex: 300 entries, 0 to 299\n",
            "Data columns (total 7 columns):\n",
            " #   Column      Non-Null Count  Dtype  \n",
            "---  ------      --------------  -----  \n",
            " 0   Varayineh   300 non-null    float64\n",
            " 1   Kheyirabad  300 non-null    float64\n",
            " 2   Khosroabad  300 non-null    float64\n",
            " 3   Namileh     300 non-null    float64\n",
            " 4   Pihan       300 non-null    float64\n",
            " 5   Vasaj       300 non-null    float64\n",
            " 6   Babapirali  300 non-null    float64\n",
            "dtypes: float64(7)\n",
            "memory usage: 16.5 KB\n"
          ],
          "name": "stdout"
        }
      ]
    },
    {
      "cell_type": "code",
      "metadata": {
        "colab": {
          "base_uri": "https://localhost:8080/"
        },
        "id": "HP41l7mOxM3b",
        "outputId": "6ca238e7-b867-4c40-95b2-7f0233c6b826"
      },
      "source": [
        "X=np.array(x)\n",
        "y=np.array(Y)\n",
        "print (X.shape[1])"
      ],
      "execution_count": null,
      "outputs": [
        {
          "output_type": "stream",
          "text": [
            "7\n"
          ],
          "name": "stdout"
        }
      ]
    },
    {
      "cell_type": "code",
      "metadata": {
        "id": "NYQVG2IOxM3p"
      },
      "source": [
        "test_size = int(len(X) * 0.30)\n",
        "valid_size = 0# int(len(X) * 0.15)\n",
        "train_size= len(X) - (valid_size+test_size)\n",
        "y_train, y_valid, y_test = y[0:train_size], y[train_size:train_size+valid_size], y[-test_size:]\n",
        "X_train, X_valid, X_test = X[0:train_size], X[train_size:train_size+valid_size], X[train_size+valid_size:]\n",
        "X_train = X_train.reshape((X_train.shape[0], X_train.shape[1], 1))\n",
        "X_valid = X_valid.reshape((X_valid.shape[0], X_valid.shape[1], 1))\n",
        "X_test = X_test.reshape((X_test.shape[0], X_test.shape[1], 1))"
      ],
      "execution_count": null,
      "outputs": []
    },
    {
      "cell_type": "code",
      "metadata": {
        "colab": {
          "base_uri": "https://localhost:8080/"
        },
        "id": "pDp56jR4iL5B",
        "outputId": "b5ed091a-ed23-4f1a-846d-174df5930c54"
      },
      "source": [
        "print (y_train.shape, y_valid.shape, y_test.shape)"
      ],
      "execution_count": null,
      "outputs": [
        {
          "output_type": "stream",
          "text": [
            "(210,) (0,) (90,)\n"
          ],
          "name": "stdout"
        }
      ]
    },
    {
      "cell_type": "code",
      "metadata": {
        "id": "NZmw4JnIxM33"
      },
      "source": [
        "from datetime import datetime\n",
        "from sklearn.metrics import mean_absolute_error\n",
        "from sklearn.metrics import mean_squared_error\n",
        "from math import sqrt\n",
        "import numpy as geek"
      ],
      "execution_count": null,
      "outputs": []
    },
    {
      "cell_type": "code",
      "metadata": {
        "id": "pisDJM4b2rzU"
      },
      "source": [
        "#def create_ANN():\n",
        "'''\n",
        "model = Sequential()\n",
        "model.add(Conv1D(filters=16, kernel_size=2, activation='relu', kernel_regularizer=keras.regularizers.l2(0.0002), input_shape=(X.shape[1],1)))\n",
        "model.add(Conv1D(filters=16, kernel_size=2, activation='relu', kernel_regularizer=keras.regularizers.l2(0.0002)))\n",
        "model.add(Dropout(0.028))\n",
        "model.add(MaxPooling1D(pool_size=1))\n",
        "#model.add(Flatten())            \n",
        "#model.add(MaxPooling1D(pool_size=1))\n",
        "#model.add(Flatten())\n",
        "#model.add(Conv1D(filters=64, kernel_size=1, activation='softmax'))  \n",
        "model.add(Flatten())         \n",
        "model.add(Dense(2, activation='relu'))\n",
        "model.add(Dense(1))\n",
        "\n",
        "'''\n",
        "model = Sequential()\n",
        "model.add(Conv1D(filters=8, kernel_size=2, activation='sigmoid', input_shape=(X.shape[1],1)))\n",
        "model.add(Conv1D(filters=16, kernel_size=1, activation='sigmoid'))\n",
        "model.add(Dropout(0.2))\n",
        "model.add(MaxPooling1D(pool_size=1))\n",
        "model.add(Flatten())         \n",
        "model.add(Dense(100, activation='relu'))\n",
        "model.add(Dense(1))"
      ],
      "execution_count": null,
      "outputs": []
    },
    {
      "cell_type": "code",
      "metadata": {
        "colab": {
          "base_uri": "https://localhost:8080/"
        },
        "id": "PZ96ms4xxM4F",
        "outputId": "1bf17223-bfaf-4dbb-d822-8379313de226"
      },
      "source": [
        "startTime = datetime.now()\n",
        "fileOfSummary = open(AI_Method+'_Summary_'+str(datetime.now()).replace(\":\", \".\")+'.csv', \"w\")\n",
        "fileOfSummary.write(\"Method,LR,DE,Epoch,RunTime,CCTr,CCTt,NSTr,NSTt,WITr,WITt,RMSETr,RMSETt,MAETr,MAETt\"+str(X.shape[1])+\"\\n\")"
      ],
      "execution_count": null,
      "outputs": [
        {
          "output_type": "execute_result",
          "data": {
            "text/plain": [
              "84"
            ]
          },
          "metadata": {
            "tags": []
          },
          "execution_count": 42
        }
      ]
    },
    {
      "cell_type": "code",
      "metadata": {
        "colab": {
          "base_uri": "https://localhost:8080/"
        },
        "id": "5UFy_CAexM4O",
        "outputId": "bf4bd131-4f8c-4f26-e69b-01b6dfe6b888"
      },
      "source": [
        "for e_LR in Var_LRs:\n",
        "    for e_decay in Var_Decays:\n",
        "        for e_epoch in Var_epochs:\n",
        "            \n",
        "            #model = create_ANN()\n",
        "            \n",
        "            optimizer = keras.optimizers.Adam(lr=e_LR, decay=e_decay)\n",
        "            model.compile(optimizer=optimizer,loss='mean_squared_error')\n",
        "        \n",
        "            print(\" \")\n",
        "            print(\" \")\n",
        "            print(\"LRs:\",e_LR)\n",
        "            print(\"Decays:\",e_decay)\n",
        "            print(\"epochs:\",e_epoch)\n",
        "            history = model.fit(X_train, y_train, epochs=e_epoch, batch_size=256, verbose=0, validation_data=(X_valid, y_valid), shuffle=False)\n",
        "            hist_df = pd.DataFrame(history.history) \n",
        "            Time_elasped= datetime.now() - startTime\n",
        "            print('\\nTime elapsed: ', Time_elasped)\n",
        " \n",
        "            Train = model.predict(X_train)\n",
        "            Test = model.predict(X_test)\n",
        " \n",
        "            FileName=AI_Method+'-LR'+str(e_LR)+'-DE'+str(e_decay)+'-'+str(e_epoch)\n",
        "            np.savetxt(FileName+'_Train.csv', Train)\n",
        "            np.savetxt(FileName+'_Test.csv', Test)\n",
        "            Train = geek.asarray(Train)\n",
        "            Test = geek.asarray(Test)\n",
        " \n",
        "            Train = Train.reshape(Train.shape[0])\n",
        "            Test = Test.reshape(Test.shape[0])\n",
        " \n",
        "            print(\" \")\n",
        "            print(\"LRs:\",e_LR)\n",
        "            print(\"Decays:\",e_decay)\n",
        "            print(\"epochs:\",e_epoch)\n",
        "            print(\"Train ==>\")\n",
        "            CC_Train=np.corrcoef(y_train,Train)\n",
        "            print(\"CC_Train = %.3f\" %CC_Train[0,1])\n",
        " \n",
        "            NSTr=HEEM.nse(Train, y_train) \n",
        "            print(\"NSTr = %.2f\" %NSTr)\n",
        " \n",
        "            WITr=HEEM.d(Train, y_train)     \n",
        "            print(\"WITr = %.2f\" %WITr)\n",
        "\n",
        "            rootMeanSquaredErrorTr = sqrt(mean_squared_error(y_train, Train))\n",
        "            print(\"RMSE = %.2f\" % rootMeanSquaredErrorTr)\n",
        "            MAETr=mean_absolute_error(y_train, Train)\n",
        "            print(\"MAE = %.2f\" %  MAETr)\n",
        " \n",
        "            print(\"Test ======================>\")\n",
        "            CC_Test=np.corrcoef(y_test,Test)\n",
        "            print(\"CC_Test = %.3f\" %CC_Test[0,1])\n",
        " \n",
        "            NSTt=HEEM.nse(Test, y_test)\n",
        "            print(\"NSTt = %.2f\" %NSTt)\n",
        " \n",
        "            WITt=HEEM.d(Test, y_test) \n",
        "            print(\"WITr = %.2f\" %WITr)\n",
        "\n",
        "            rootMeanSquaredErrorTt = sqrt(mean_squared_error(y_test, Test))\n",
        "            print(\"RMSE = %.2f\" % rootMeanSquaredErrorTt)\n",
        "            MAETt=mean_absolute_error(y_test, Test)\n",
        "            print(\"MAE = %.2f\" %  MAETt)\n",
        " \n",
        "            fileOfSummary.write(AI_Method+','+str(e_LR)+','+str(e_decay)+','+str(e_epoch)+','+str(Time_elasped)+','\n",
        "              +str(CC_Train[0,1])+','+str(CC_Test[0,1])+','\n",
        "              +str(NSTr)+','+str(NSTt)+','\n",
        "              +str(WITr)+','+str(WITt)+','\n",
        "              +str(rootMeanSquaredErrorTr)+','+str(rootMeanSquaredErrorTt)+','\n",
        "              +str(MAETr)+','+str(MAETt)+'\\n')\n",
        "\n",
        "            keras.backend.clear_session()\n",
        "            model.reset_states() "
      ],
      "execution_count": null,
      "outputs": [
        {
          "output_type": "stream",
          "text": [
            "/usr/local/lib/python3.7/dist-packages/tensorflow/python/keras/optimizer_v2/optimizer_v2.py:375: UserWarning: The `lr` argument is deprecated, use `learning_rate` instead.\n",
            "  \"The `lr` argument is deprecated, use `learning_rate` instead.\")\n"
          ],
          "name": "stderr"
        },
        {
          "output_type": "stream",
          "text": [
            " \n",
            " \n",
            "LRs: 0.01\n",
            "Decays: 0.01\n",
            "epochs: 5\n",
            "\n",
            "Time elapsed:  0:00:17.043529\n",
            " \n",
            "LRs: 0.01\n",
            "Decays: 0.01\n",
            "epochs: 5\n",
            "Train ==>\n",
            "CC_Train = 0.731\n",
            "NSTr = -0.21\n",
            "WITr = 0.39\n",
            "RMSE = 43.65\n",
            "MAE = 30.63\n",
            "Test ======================>\n",
            "CC_Test = 0.669\n",
            "NSTt = -0.19\n",
            "WITr = 0.39\n",
            "RMSE = 58.41\n",
            "MAE = 37.03\n",
            " \n",
            " \n",
            "LRs: 0.01\n",
            "Decays: 0.01\n",
            "epochs: 10\n"
          ],
          "name": "stdout"
        },
        {
          "output_type": "stream",
          "text": [
            "/usr/local/lib/python3.7/dist-packages/tensorflow/python/keras/optimizer_v2/optimizer_v2.py:375: UserWarning: The `lr` argument is deprecated, use `learning_rate` instead.\n",
            "  \"The `lr` argument is deprecated, use `learning_rate` instead.\")\n"
          ],
          "name": "stderr"
        },
        {
          "output_type": "stream",
          "text": [
            "\n",
            "Time elapsed:  0:00:18.471701\n",
            " \n",
            "LRs: 0.01\n",
            "Decays: 0.01\n",
            "epochs: 10\n",
            "Train ==>\n",
            "CC_Train = 0.762\n",
            "NSTr = 0.10\n",
            "WITr = 0.21\n",
            "RMSE = 37.78\n",
            "MAE = 30.49\n",
            "Test ======================>\n",
            "CC_Test = 0.685\n",
            "NSTt = 0.07\n",
            "WITr = 0.21\n",
            "RMSE = 51.62\n",
            "MAE = 36.75\n",
            " \n",
            " \n",
            "LRs: 0.01\n",
            "Decays: 0.01\n",
            "epochs: 50\n"
          ],
          "name": "stdout"
        },
        {
          "output_type": "stream",
          "text": [
            "/usr/local/lib/python3.7/dist-packages/tensorflow/python/keras/optimizer_v2/optimizer_v2.py:375: UserWarning: The `lr` argument is deprecated, use `learning_rate` instead.\n",
            "  \"The `lr` argument is deprecated, use `learning_rate` instead.\")\n"
          ],
          "name": "stderr"
        },
        {
          "output_type": "stream",
          "text": [
            "\n",
            "Time elapsed:  0:00:20.179995\n",
            " \n",
            "LRs: 0.01\n",
            "Decays: 0.01\n",
            "epochs: 50\n",
            "Train ==>\n",
            "CC_Train = 0.950\n",
            "NSTr = 0.86\n",
            "WITr = 0.96\n",
            "RMSE = 14.98\n",
            "MAE = 8.79\n",
            "Test ======================>\n",
            "CC_Test = 0.937\n",
            "NSTt = 0.79\n",
            "WITr = 0.96\n",
            "RMSE = 24.60\n",
            "MAE = 11.75\n",
            " \n",
            " \n",
            "LRs: 0.01\n",
            "Decays: 0.01\n",
            "epochs: 100\n"
          ],
          "name": "stdout"
        },
        {
          "output_type": "stream",
          "text": [
            "/usr/local/lib/python3.7/dist-packages/tensorflow/python/keras/optimizer_v2/optimizer_v2.py:375: UserWarning: The `lr` argument is deprecated, use `learning_rate` instead.\n",
            "  \"The `lr` argument is deprecated, use `learning_rate` instead.\")\n"
          ],
          "name": "stderr"
        },
        {
          "output_type": "stream",
          "text": [
            "\n",
            "Time elapsed:  0:00:23.807404\n",
            " \n",
            "LRs: 0.01\n",
            "Decays: 0.01\n",
            "epochs: 100\n",
            "Train ==>\n",
            "CC_Train = 0.963\n",
            "NSTr = 0.93\n",
            "WITr = 0.98\n",
            "RMSE = 10.86\n",
            "MAE = 7.06\n",
            "Test ======================>\n",
            "CC_Test = 0.945\n",
            "NSTt = 0.87\n",
            "WITr = 0.98\n",
            "RMSE = 19.55\n",
            "MAE = 9.49\n",
            " \n",
            " \n",
            "LRs: 0.01\n",
            "Decays: 0.01\n",
            "epochs: 500\n"
          ],
          "name": "stdout"
        },
        {
          "output_type": "stream",
          "text": [
            "/usr/local/lib/python3.7/dist-packages/tensorflow/python/keras/optimizer_v2/optimizer_v2.py:375: UserWarning: The `lr` argument is deprecated, use `learning_rate` instead.\n",
            "  \"The `lr` argument is deprecated, use `learning_rate` instead.\")\n"
          ],
          "name": "stderr"
        },
        {
          "output_type": "stream",
          "text": [
            "\n",
            "Time elapsed:  0:00:35.080091\n",
            " \n",
            "LRs: 0.01\n",
            "Decays: 0.01\n",
            "epochs: 500\n",
            "Train ==>\n",
            "CC_Train = 0.972\n",
            "NSTr = 0.94\n",
            "WITr = 0.98\n",
            "RMSE = 9.45\n",
            "MAE = 6.26\n",
            "Test ======================>\n",
            "CC_Test = 0.966\n",
            "NSTt = 0.92\n",
            "WITr = 0.98\n",
            "RMSE = 15.15\n",
            "MAE = 7.57\n",
            " \n",
            " \n",
            "LRs: 0.01\n",
            "Decays: 0.01\n",
            "epochs: 1000\n"
          ],
          "name": "stdout"
        },
        {
          "output_type": "stream",
          "text": [
            "/usr/local/lib/python3.7/dist-packages/tensorflow/python/keras/optimizer_v2/optimizer_v2.py:375: UserWarning: The `lr` argument is deprecated, use `learning_rate` instead.\n",
            "  \"The `lr` argument is deprecated, use `learning_rate` instead.\")\n"
          ],
          "name": "stderr"
        },
        {
          "output_type": "stream",
          "text": [
            "\n",
            "Time elapsed:  0:00:51.033088\n",
            " \n",
            "LRs: 0.01\n",
            "Decays: 0.01\n",
            "epochs: 1000\n",
            "Train ==>\n",
            "CC_Train = 0.976\n",
            "NSTr = 0.95\n",
            "WITr = 0.99\n",
            "RMSE = 8.68\n",
            "MAE = 5.77\n",
            "Test ======================>\n",
            "CC_Test = 0.974\n",
            "NSTt = 0.94\n",
            "WITr = 0.99\n",
            "RMSE = 12.85\n",
            "MAE = 6.96\n",
            " \n",
            " \n",
            "LRs: 0.01\n",
            "Decays: 0.001\n",
            "epochs: 5\n"
          ],
          "name": "stdout"
        },
        {
          "output_type": "stream",
          "text": [
            "/usr/local/lib/python3.7/dist-packages/tensorflow/python/keras/optimizer_v2/optimizer_v2.py:375: UserWarning: The `lr` argument is deprecated, use `learning_rate` instead.\n",
            "  \"The `lr` argument is deprecated, use `learning_rate` instead.\")\n"
          ],
          "name": "stderr"
        },
        {
          "output_type": "stream",
          "text": [
            "\n",
            "Time elapsed:  0:00:52.281280\n",
            " \n",
            "LRs: 0.01\n",
            "Decays: 0.001\n",
            "epochs: 5\n",
            "Train ==>\n",
            "CC_Train = 0.974\n",
            "NSTr = 0.37\n",
            "WITr = 0.74\n",
            "RMSE = 31.61\n",
            "MAE = 21.43\n",
            "Test ======================>\n",
            "CC_Test = 0.981\n",
            "NSTt = 0.46\n",
            "WITr = 0.74\n",
            "RMSE = 39.41\n",
            "MAE = 23.95\n",
            " \n",
            " \n",
            "LRs: 0.01\n",
            "Decays: 0.001\n",
            "epochs: 10\n"
          ],
          "name": "stdout"
        },
        {
          "output_type": "stream",
          "text": [
            "/usr/local/lib/python3.7/dist-packages/tensorflow/python/keras/optimizer_v2/optimizer_v2.py:375: UserWarning: The `lr` argument is deprecated, use `learning_rate` instead.\n",
            "  \"The `lr` argument is deprecated, use `learning_rate` instead.\")\n"
          ],
          "name": "stderr"
        },
        {
          "output_type": "stream",
          "text": [
            "\n",
            "Time elapsed:  0:00:53.745076\n",
            " \n",
            "LRs: 0.01\n",
            "Decays: 0.001\n",
            "epochs: 10\n",
            "Train ==>\n",
            "CC_Train = 0.965\n",
            "NSTr = 0.86\n",
            "WITr = 0.97\n",
            "RMSE = 14.89\n",
            "MAE = 9.82\n",
            "Test ======================>\n",
            "CC_Test = 0.940\n",
            "NSTt = 0.86\n",
            "WITr = 0.97\n",
            "RMSE = 19.80\n",
            "MAE = 11.40\n",
            " \n",
            " \n",
            "LRs: 0.01\n",
            "Decays: 0.001\n",
            "epochs: 50\n"
          ],
          "name": "stdout"
        },
        {
          "output_type": "stream",
          "text": [
            "/usr/local/lib/python3.7/dist-packages/tensorflow/python/keras/optimizer_v2/optimizer_v2.py:375: UserWarning: The `lr` argument is deprecated, use `learning_rate` instead.\n",
            "  \"The `lr` argument is deprecated, use `learning_rate` instead.\")\n"
          ],
          "name": "stderr"
        },
        {
          "output_type": "stream",
          "text": [
            "\n",
            "Time elapsed:  0:00:56.064922\n",
            " \n",
            "LRs: 0.01\n",
            "Decays: 0.001\n",
            "epochs: 50\n",
            "Train ==>\n",
            "CC_Train = 0.973\n",
            "NSTr = 0.94\n",
            "WITr = 0.98\n",
            "RMSE = 9.51\n",
            "MAE = 5.91\n",
            "Test ======================>\n",
            "CC_Test = 0.956\n",
            "NSTt = 0.89\n",
            "WITr = 0.98\n",
            "RMSE = 17.60\n",
            "MAE = 8.18\n",
            " \n",
            " \n",
            "LRs: 0.01\n",
            "Decays: 0.001\n",
            "epochs: 100\n"
          ],
          "name": "stdout"
        },
        {
          "output_type": "stream",
          "text": [
            "/usr/local/lib/python3.7/dist-packages/tensorflow/python/keras/optimizer_v2/optimizer_v2.py:375: UserWarning: The `lr` argument is deprecated, use `learning_rate` instead.\n",
            "  \"The `lr` argument is deprecated, use `learning_rate` instead.\")\n"
          ],
          "name": "stderr"
        },
        {
          "output_type": "stream",
          "text": [
            "\n",
            "Time elapsed:  0:00:59.647114\n",
            " \n",
            "LRs: 0.01\n",
            "Decays: 0.001\n",
            "epochs: 100\n",
            "Train ==>\n",
            "CC_Train = 0.976\n",
            "NSTr = 0.95\n",
            "WITr = 0.99\n",
            "RMSE = 9.24\n",
            "MAE = 5.85\n",
            "Test ======================>\n",
            "CC_Test = 0.971\n",
            "NSTt = 0.93\n",
            "WITr = 0.99\n",
            "RMSE = 14.56\n",
            "MAE = 7.47\n",
            " \n",
            " \n",
            "LRs: 0.01\n",
            "Decays: 0.001\n",
            "epochs: 500\n"
          ],
          "name": "stdout"
        },
        {
          "output_type": "stream",
          "text": [
            "/usr/local/lib/python3.7/dist-packages/tensorflow/python/keras/optimizer_v2/optimizer_v2.py:375: UserWarning: The `lr` argument is deprecated, use `learning_rate` instead.\n",
            "  \"The `lr` argument is deprecated, use `learning_rate` instead.\")\n"
          ],
          "name": "stderr"
        },
        {
          "output_type": "stream",
          "text": [
            "\n",
            "Time elapsed:  0:01:10.926827\n",
            " \n",
            "LRs: 0.01\n",
            "Decays: 0.001\n",
            "epochs: 500\n",
            "Train ==>\n",
            "CC_Train = 0.980\n",
            "NSTr = 0.96\n",
            "WITr = 0.99\n",
            "RMSE = 7.94\n",
            "MAE = 5.28\n",
            "Test ======================>\n",
            "CC_Test = 0.972\n",
            "NSTt = 0.94\n",
            "WITr = 0.99\n",
            "RMSE = 12.96\n",
            "MAE = 7.69\n",
            " \n",
            " \n",
            "LRs: 0.01\n",
            "Decays: 0.001\n",
            "epochs: 1000\n"
          ],
          "name": "stdout"
        },
        {
          "output_type": "stream",
          "text": [
            "/usr/local/lib/python3.7/dist-packages/tensorflow/python/keras/optimizer_v2/optimizer_v2.py:375: UserWarning: The `lr` argument is deprecated, use `learning_rate` instead.\n",
            "  \"The `lr` argument is deprecated, use `learning_rate` instead.\")\n"
          ],
          "name": "stderr"
        },
        {
          "output_type": "stream",
          "text": [
            "\n",
            "Time elapsed:  0:01:27.088630\n",
            " \n",
            "LRs: 0.01\n",
            "Decays: 0.001\n",
            "epochs: 1000\n",
            "Train ==>\n",
            "CC_Train = 0.984\n",
            "NSTr = 0.97\n",
            "WITr = 0.99\n",
            "RMSE = 7.11\n",
            "MAE = 4.71\n",
            "Test ======================>\n",
            "CC_Test = 0.963\n",
            "NSTt = 0.92\n",
            "WITr = 0.99\n",
            "RMSE = 14.88\n",
            "MAE = 8.11\n",
            " \n",
            " \n",
            "LRs: 0.001\n",
            "Decays: 0.01\n",
            "epochs: 5\n"
          ],
          "name": "stdout"
        },
        {
          "output_type": "stream",
          "text": [
            "/usr/local/lib/python3.7/dist-packages/tensorflow/python/keras/optimizer_v2/optimizer_v2.py:375: UserWarning: The `lr` argument is deprecated, use `learning_rate` instead.\n",
            "  \"The `lr` argument is deprecated, use `learning_rate` instead.\")\n"
          ],
          "name": "stderr"
        },
        {
          "output_type": "stream",
          "text": [
            "\n",
            "Time elapsed:  0:01:28.329984\n",
            " \n",
            "LRs: 0.001\n",
            "Decays: 0.01\n",
            "epochs: 5\n",
            "Train ==>\n",
            "CC_Train = 0.984\n",
            "NSTr = 0.97\n",
            "WITr = 0.99\n",
            "RMSE = 7.39\n",
            "MAE = 4.81\n",
            "Test ======================>\n",
            "CC_Test = 0.964\n",
            "NSTt = 0.92\n",
            "WITr = 0.99\n",
            "RMSE = 14.95\n",
            "MAE = 8.04\n",
            " \n",
            " \n",
            "LRs: 0.001\n",
            "Decays: 0.01\n",
            "epochs: 10\n"
          ],
          "name": "stdout"
        },
        {
          "output_type": "stream",
          "text": [
            "/usr/local/lib/python3.7/dist-packages/tensorflow/python/keras/optimizer_v2/optimizer_v2.py:375: UserWarning: The `lr` argument is deprecated, use `learning_rate` instead.\n",
            "  \"The `lr` argument is deprecated, use `learning_rate` instead.\")\n"
          ],
          "name": "stderr"
        },
        {
          "output_type": "stream",
          "text": [
            "\n",
            "Time elapsed:  0:01:29.547458\n",
            " \n",
            "LRs: 0.001\n",
            "Decays: 0.01\n",
            "epochs: 10\n",
            "Train ==>\n",
            "CC_Train = 0.984\n",
            "NSTr = 0.97\n",
            "WITr = 0.99\n",
            "RMSE = 7.08\n",
            "MAE = 4.72\n",
            "Test ======================>\n",
            "CC_Test = 0.962\n",
            "NSTt = 0.92\n",
            "WITr = 0.99\n",
            "RMSE = 14.93\n",
            "MAE = 8.18\n",
            " \n",
            " \n",
            "LRs: 0.001\n",
            "Decays: 0.01\n",
            "epochs: 50\n"
          ],
          "name": "stdout"
        },
        {
          "output_type": "stream",
          "text": [
            "/usr/local/lib/python3.7/dist-packages/tensorflow/python/keras/optimizer_v2/optimizer_v2.py:375: UserWarning: The `lr` argument is deprecated, use `learning_rate` instead.\n",
            "  \"The `lr` argument is deprecated, use `learning_rate` instead.\")\n"
          ],
          "name": "stderr"
        },
        {
          "output_type": "stream",
          "text": [
            "\n",
            "Time elapsed:  0:01:31.358331\n",
            " \n",
            "LRs: 0.001\n",
            "Decays: 0.01\n",
            "epochs: 50\n",
            "Train ==>\n",
            "CC_Train = 0.984\n",
            "NSTr = 0.97\n",
            "WITr = 0.99\n",
            "RMSE = 7.07\n",
            "MAE = 4.72\n",
            "Test ======================>\n",
            "CC_Test = 0.962\n",
            "NSTt = 0.92\n",
            "WITr = 0.99\n",
            "RMSE = 14.89\n",
            "MAE = 8.28\n",
            " \n",
            " \n",
            "LRs: 0.001\n",
            "Decays: 0.01\n",
            "epochs: 100\n"
          ],
          "name": "stdout"
        },
        {
          "output_type": "stream",
          "text": [
            "/usr/local/lib/python3.7/dist-packages/tensorflow/python/keras/optimizer_v2/optimizer_v2.py:375: UserWarning: The `lr` argument is deprecated, use `learning_rate` instead.\n",
            "  \"The `lr` argument is deprecated, use `learning_rate` instead.\")\n"
          ],
          "name": "stderr"
        },
        {
          "output_type": "stream",
          "text": [
            "\n",
            "Time elapsed:  0:01:34.949613\n",
            " \n",
            "LRs: 0.001\n",
            "Decays: 0.01\n",
            "epochs: 100\n",
            "Train ==>\n",
            "CC_Train = 0.984\n",
            "NSTr = 0.97\n",
            "WITr = 0.99\n",
            "RMSE = 7.03\n",
            "MAE = 4.66\n",
            "Test ======================>\n",
            "CC_Test = 0.963\n",
            "NSTt = 0.92\n",
            "WITr = 0.99\n",
            "RMSE = 14.74\n",
            "MAE = 8.18\n",
            " \n",
            " \n",
            "LRs: 0.001\n",
            "Decays: 0.01\n",
            "epochs: 500\n"
          ],
          "name": "stdout"
        },
        {
          "output_type": "stream",
          "text": [
            "/usr/local/lib/python3.7/dist-packages/tensorflow/python/keras/optimizer_v2/optimizer_v2.py:375: UserWarning: The `lr` argument is deprecated, use `learning_rate` instead.\n",
            "  \"The `lr` argument is deprecated, use `learning_rate` instead.\")\n"
          ],
          "name": "stderr"
        },
        {
          "output_type": "stream",
          "text": [
            "\n",
            "Time elapsed:  0:01:46.322000\n",
            " \n",
            "LRs: 0.001\n",
            "Decays: 0.01\n",
            "epochs: 500\n",
            "Train ==>\n",
            "CC_Train = 0.984\n",
            "NSTr = 0.97\n",
            "WITr = 0.99\n",
            "RMSE = 6.98\n",
            "MAE = 4.60\n",
            "Test ======================>\n",
            "CC_Test = 0.963\n",
            "NSTt = 0.93\n",
            "WITr = 0.99\n",
            "RMSE = 14.60\n",
            "MAE = 8.20\n",
            " \n",
            " \n",
            "LRs: 0.001\n",
            "Decays: 0.01\n",
            "epochs: 1000\n"
          ],
          "name": "stdout"
        },
        {
          "output_type": "stream",
          "text": [
            "/usr/local/lib/python3.7/dist-packages/tensorflow/python/keras/optimizer_v2/optimizer_v2.py:375: UserWarning: The `lr` argument is deprecated, use `learning_rate` instead.\n",
            "  \"The `lr` argument is deprecated, use `learning_rate` instead.\")\n"
          ],
          "name": "stderr"
        },
        {
          "output_type": "stream",
          "text": [
            "\n",
            "Time elapsed:  0:02:07.906131\n",
            " \n",
            "LRs: 0.001\n",
            "Decays: 0.01\n",
            "epochs: 1000\n",
            "Train ==>\n",
            "CC_Train = 0.985\n",
            "NSTr = 0.97\n",
            "WITr = 0.99\n",
            "RMSE = 6.96\n",
            "MAE = 4.60\n",
            "Test ======================>\n",
            "CC_Test = 0.964\n",
            "NSTt = 0.93\n",
            "WITr = 0.99\n",
            "RMSE = 14.45\n",
            "MAE = 8.19\n",
            " \n",
            " \n",
            "LRs: 0.001\n",
            "Decays: 0.001\n",
            "epochs: 5\n"
          ],
          "name": "stdout"
        },
        {
          "output_type": "stream",
          "text": [
            "/usr/local/lib/python3.7/dist-packages/tensorflow/python/keras/optimizer_v2/optimizer_v2.py:375: UserWarning: The `lr` argument is deprecated, use `learning_rate` instead.\n",
            "  \"The `lr` argument is deprecated, use `learning_rate` instead.\")\n"
          ],
          "name": "stderr"
        },
        {
          "output_type": "stream",
          "text": [
            "\n",
            "Time elapsed:  0:02:09.154630\n",
            " \n",
            "LRs: 0.001\n",
            "Decays: 0.001\n",
            "epochs: 5\n",
            "Train ==>\n",
            "CC_Train = 0.985\n",
            "NSTr = 0.96\n",
            "WITr = 0.99\n",
            "RMSE = 7.54\n",
            "MAE = 4.85\n",
            "Test ======================>\n",
            "CC_Test = 0.966\n",
            "NSTt = 0.92\n",
            "WITr = 0.99\n",
            "RMSE = 14.78\n",
            "MAE = 8.09\n",
            " \n",
            " \n",
            "LRs: 0.001\n",
            "Decays: 0.001\n",
            "epochs: 10\n"
          ],
          "name": "stdout"
        },
        {
          "output_type": "stream",
          "text": [
            "/usr/local/lib/python3.7/dist-packages/tensorflow/python/keras/optimizer_v2/optimizer_v2.py:375: UserWarning: The `lr` argument is deprecated, use `learning_rate` instead.\n",
            "  \"The `lr` argument is deprecated, use `learning_rate` instead.\")\n"
          ],
          "name": "stderr"
        },
        {
          "output_type": "stream",
          "text": [
            "\n",
            "Time elapsed:  0:02:10.410949\n",
            " \n",
            "LRs: 0.001\n",
            "Decays: 0.001\n",
            "epochs: 10\n",
            "Train ==>\n",
            "CC_Train = 0.984\n",
            "NSTr = 0.97\n",
            "WITr = 0.99\n",
            "RMSE = 7.19\n",
            "MAE = 4.76\n",
            "Test ======================>\n",
            "CC_Test = 0.963\n",
            "NSTt = 0.92\n",
            "WITr = 0.99\n",
            "RMSE = 14.68\n",
            "MAE = 8.55\n",
            " \n",
            " \n",
            "LRs: 0.001\n",
            "Decays: 0.001\n",
            "epochs: 50\n"
          ],
          "name": "stdout"
        },
        {
          "output_type": "stream",
          "text": [
            "/usr/local/lib/python3.7/dist-packages/tensorflow/python/keras/optimizer_v2/optimizer_v2.py:375: UserWarning: The `lr` argument is deprecated, use `learning_rate` instead.\n",
            "  \"The `lr` argument is deprecated, use `learning_rate` instead.\")\n"
          ],
          "name": "stderr"
        },
        {
          "output_type": "stream",
          "text": [
            "\n",
            "Time elapsed:  0:02:12.224343\n",
            " \n",
            "LRs: 0.001\n",
            "Decays: 0.001\n",
            "epochs: 50\n",
            "Train ==>\n",
            "CC_Train = 0.985\n",
            "NSTr = 0.97\n",
            "WITr = 0.99\n",
            "RMSE = 6.98\n",
            "MAE = 4.59\n",
            "Test ======================>\n",
            "CC_Test = 0.964\n",
            "NSTt = 0.93\n",
            "WITr = 0.99\n",
            "RMSE = 14.52\n",
            "MAE = 8.09\n",
            " \n",
            " \n",
            "LRs: 0.001\n",
            "Decays: 0.001\n",
            "epochs: 100\n"
          ],
          "name": "stdout"
        },
        {
          "output_type": "stream",
          "text": [
            "/usr/local/lib/python3.7/dist-packages/tensorflow/python/keras/optimizer_v2/optimizer_v2.py:375: UserWarning: The `lr` argument is deprecated, use `learning_rate` instead.\n",
            "  \"The `lr` argument is deprecated, use `learning_rate` instead.\")\n"
          ],
          "name": "stderr"
        },
        {
          "output_type": "stream",
          "text": [
            "\n",
            "Time elapsed:  0:02:15.874498\n",
            " \n",
            "LRs: 0.001\n",
            "Decays: 0.001\n",
            "epochs: 100\n",
            "Train ==>\n",
            "CC_Train = 0.985\n",
            "NSTr = 0.97\n",
            "WITr = 0.99\n",
            "RMSE = 6.99\n",
            "MAE = 4.61\n",
            "Test ======================>\n",
            "CC_Test = 0.964\n",
            "NSTt = 0.93\n",
            "WITr = 0.99\n",
            "RMSE = 14.55\n",
            "MAE = 8.09\n",
            " \n",
            " \n",
            "LRs: 0.001\n",
            "Decays: 0.001\n",
            "epochs: 500\n"
          ],
          "name": "stdout"
        },
        {
          "output_type": "stream",
          "text": [
            "/usr/local/lib/python3.7/dist-packages/tensorflow/python/keras/optimizer_v2/optimizer_v2.py:375: UserWarning: The `lr` argument is deprecated, use `learning_rate` instead.\n",
            "  \"The `lr` argument is deprecated, use `learning_rate` instead.\")\n"
          ],
          "name": "stderr"
        },
        {
          "output_type": "stream",
          "text": [
            "\n",
            "Time elapsed:  0:02:24.182890\n",
            " \n",
            "LRs: 0.001\n",
            "Decays: 0.001\n",
            "epochs: 500\n",
            "Train ==>\n",
            "CC_Train = 0.985\n",
            "NSTr = 0.97\n",
            "WITr = 0.99\n",
            "RMSE = 7.03\n",
            "MAE = 4.61\n",
            "Test ======================>\n",
            "CC_Test = 0.966\n",
            "NSTt = 0.93\n",
            "WITr = 0.99\n",
            "RMSE = 14.35\n",
            "MAE = 8.04\n",
            " \n",
            " \n",
            "LRs: 0.001\n",
            "Decays: 0.001\n",
            "epochs: 1000\n"
          ],
          "name": "stdout"
        },
        {
          "output_type": "stream",
          "text": [
            "/usr/local/lib/python3.7/dist-packages/tensorflow/python/keras/optimizer_v2/optimizer_v2.py:375: UserWarning: The `lr` argument is deprecated, use `learning_rate` instead.\n",
            "  \"The `lr` argument is deprecated, use `learning_rate` instead.\")\n"
          ],
          "name": "stderr"
        },
        {
          "output_type": "stream",
          "text": [
            "\n",
            "Time elapsed:  0:02:45.753650\n",
            " \n",
            "LRs: 0.001\n",
            "Decays: 0.001\n",
            "epochs: 1000\n",
            "Train ==>\n",
            "CC_Train = 0.986\n",
            "NSTr = 0.97\n",
            "WITr = 0.99\n",
            "RMSE = 6.75\n",
            "MAE = 4.48\n",
            "Test ======================>\n",
            "CC_Test = 0.965\n",
            "NSTt = 0.93\n",
            "WITr = 0.99\n",
            "RMSE = 14.20\n",
            "MAE = 8.20\n"
          ],
          "name": "stdout"
        }
      ]
    },
    {
      "cell_type": "code",
      "metadata": {
        "id": "Uds-9YfxxM4e",
        "scrolled": true,
        "colab": {
          "base_uri": "https://localhost:8080/"
        },
        "outputId": "d90c09c7-d421-4cc0-d1bd-7c2d4f9b877b"
      },
      "source": [
        "import io\n",
        "buf = io.StringIO()\n",
        "x.info(buf=buf)\n",
        "s = buf.getvalue()\n",
        "\n",
        "fileOfSummary.write(s)\n",
        "fileOfSummary.close()\n",
        "\n",
        "print(\"Finished\")"
      ],
      "execution_count": null,
      "outputs": [
        {
          "output_type": "stream",
          "text": [
            "Finished\n"
          ],
          "name": "stdout"
        }
      ]
    },
    {
      "cell_type": "code",
      "metadata": {
        "id": "JBpRfeyZ2L2S"
      },
      "source": [],
      "execution_count": null,
      "outputs": []
    }
  ]
}